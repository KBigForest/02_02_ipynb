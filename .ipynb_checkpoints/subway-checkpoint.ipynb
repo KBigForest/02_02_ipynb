{
 "cells": [
  {
   "cell_type": "markdown",
   "id": "19a57e1f-7039-40ea-a994-298db9b53dfb",
   "metadata": {},
   "source": [
    "## 전체 탑승 인원 대비 유임 승차 비율이 가장 높은 역\n",
    "### 유임승차 대 무임승차 비율"
   ]
  },
  {
   "cell_type": "code",
   "execution_count": 30,
   "id": "6379e1e9-7c78-48d2-9991-7ca72656298a",
   "metadata": {},
   "outputs": [
    {
     "ename": "SyntaxError",
     "evalue": "unexpected EOF while parsing (2618216502.py, line 14)",
     "output_type": "error",
     "traceback": [
      "\u001b[1;36m  File \u001b[1;32m\"C:\\Users\\dddf\\AppData\\Local\\Temp\\ipykernel_7820\\2618216502.py\"\u001b[1;36m, line \u001b[1;32m14\u001b[0m\n\u001b[1;33m    print(max_rate\u001b[0m\n\u001b[1;37m                  ^\u001b[0m\n\u001b[1;31mSyntaxError\u001b[0m\u001b[1;31m:\u001b[0m unexpected EOF while parsing\n"
     ]
    }
   ],
   "source": [
    "import csv\n",
    "\n",
    "f = open('subwayfee.csv', encoding = 'utf-8-sig')\n",
    "data = csv.reader(f)\n",
    "header = next(data)\n",
    "max_rate  = 0\n",
    "rate = 0\n",
    "for row in data:\n",
    "    for i in range(4,8):\n",
    "        row[i] = int(row[i])\n",
    "    rate = row[4] / row[6]\n",
    "    if rate > max_rate:\n",
    "        max_rate = rate\n",
    "print(max_rate"
   ]
  },
  {
   "cell_type": "markdown",
   "id": "f7ab5e7d-27e5-43ba-b978-4cb9b72f575c",
   "metadata": {},
   "source": [
    "## 무임승차 인원 0명인 역 찾기"
   ]
  },
  {
   "cell_type": "code",
   "execution_count": null,
   "id": "d993a13f-c7ac-46bd-a5eb-986cb3f822e0",
   "metadata": {},
   "outputs": [],
   "source": [
    "import csv\n",
    "\n",
    "f = open('subwayfee.csv', encoding = 'utf-8-sig')\n",
    "data = csv.reader(f)\n",
    "header = next(data)\n",
    "rate = 0\n",
    "\n",
    "for row in data:\n",
    "    for i in range(4, 8):\n",
    "        row[i] = int(row[i])\n",
    "    rate = (row[4]) / (row[4] + row[6])\n",
    "    \n",
    "    if row[6] == 0:\n",
    "        print(row)\n",
    "f.close()"
   ]
  },
  {
   "cell_type": "markdown",
   "id": "d7bc01c1-418d-4603-84c1-34a75366b7b3",
   "metadata": {},
   "source": [
    "## 최대 무임 승차 비율 확인"
   ]
  },
  {
   "cell_type": "code",
   "execution_count": null,
   "id": "20ff60a0-cc41-443c-971a-73192fd85b0b",
   "metadata": {},
   "outputs": [],
   "source": [
    "import csv\n",
    "\n",
    "f = open('subwayfee.csv', encoding = 'utf-8-sig')\n",
    "data = csv.reader(f)\n",
    "header = next(data)\n",
    "max_rate  = 0\n",
    "rate = 0\n",
    "i = 0\n",
    "for row in data:\n",
    "    for i in range(4, 8):\n",
    "        row[i] = int(row[i])\n",
    "    if row[6] != 0:\n",
    "        rate = (row[6] * 100) / (row[4] + row[6])\n",
    "        if rate > max_rate:\n",
    "            max_rate = rate\n",
    "            print(row, round(rate, 2), '%')\n",
    "f.close()"
   ]
  },
  {
   "cell_type": "code",
   "execution_count": null,
   "id": "859904dd-6222-4ee0-b921-eea3c39e7be4",
   "metadata": {},
   "outputs": [],
   "source": [
    "import csv\n",
    "\n",
    "f = open('subwayfee.csv', encoding = 'utf-8-sig')\n",
    "data = csv.reader(f)\n",
    "header = next(data)\n",
    "max_rate  = 0\n",
    "rate = 0\n",
    "max_row = []\n",
    "total_count = 0\n",
    "max_total_num = 0\n",
    "\n",
    "for row in data:\n",
    "    for i in range(4, 8):\n",
    "        row[i] = int(row[i])\n",
    "    total_count = row[4] + row[6]\n",
    "    if row[6] != 0 and (total_count >100000):\n",
    "        rate = row[4] / total_count\n",
    "        if rate > max_rate:\n",
    "            max_rate = rate\n",
    "            max_row = row\n",
    "            max_total_num = total_count\n",
    "print(max_row)\n",
    "print('역이름: {0}, 전체 인원: {1:,}, 유임승차인원:{2:,}, 유임승차 비율: {3:,}'.format(max_row[3], max_total_num, max_row[4], round(max_rate*100,1)))\n",
    "f.close()"
   ]
  },
  {
   "cell_type": "code",
   "execution_count": null,
   "id": "cbf1ed56-6208-4c0d-bc81-6bee15d9e096",
   "metadata": {},
   "outputs": [],
   "source": [
    "import matplotlib.pyplot as plt\n",
    "\n",
    "plt.rcParams['axes.unicode_minus'] = False\n",
    "plt.rcParams['font.family'] = 'D2Coding'\n",
    "numbers\t=\t[214,\t2312,\t1031,\t1233]\n",
    "blood_type =\t['A형',\t'B형',\t'AB형',\t'O형']\n",
    "\n",
    "\n",
    "plt.axis('equal')\n",
    "plt.pie(numbers, labels = blood_type, autopct = '%.1f%%')\n",
    "plt.legend()\n",
    "plt.show()\n",
    "\n"
   ]
  },
  {
   "cell_type": "code",
   "execution_count": null,
   "id": "592b9fe1-e472-4568-9a99-ebb787bece62",
   "metadata": {},
   "outputs": [],
   "source": [
    "import matplotlib.pyplot as plt\n",
    "\n",
    "\n",
    "plt.rcParams['axes.unicode_minus'] = False\n",
    "plt.rcParams['font.family'] = 'D2Coding'\n",
    "color=['darkmagenta',\t'deeppink',\t'hotpink',\t'pink']\n",
    "size\t=\t[2441,\t2312,\t1031,\t1233]\n",
    "blood_type =\t['A형',\t'B형',\t'AB형',\t'O형']\n",
    "\n",
    "plt.axis('equal')\n",
    "plt.pie(size, labels = blood_type, autopct = '%.1f%%', colors = color, explode = (0,0,0.1,0), startangle=90)\n",
    "plt.legend()\n",
    "plt.show()\n",
    "\n"
   ]
  },
  {
   "cell_type": "code",
   "execution_count": 38,
   "id": "59222993-cd4e-401f-b716-e32f08e1e15b",
   "metadata": {},
   "outputs": [
    {
     "name": "stdout",
     "output_type": "stream",
     "text": [
      "['Dec.22', '1호선', '157', '제기동', 238529, '228924', 257360, '275606'] 0.48\n",
      "\n",
      "['Dec.22', '1호선', '159', '동묘앞', 134207, '141805', 137351, '139883'] 0.49\n",
      "['Dec.22', '경원선', '1916', '소요산', 30614, '23597', 38770, '35159'] 0.44\n",
      "\n",
      "0.44122564279949267\n",
      "44.1\n",
      "69384\n",
      "관악산(서울대)\n",
      "유임 승차 비율이 가장 낮은 역: 소요산, 전체 인원: 69,459명, 유임승차인원: 30,614명, 유임승차비율: 44.1%\n"
     ]
    },
    {
     "data": {
      "image/png": "[encoded data removed]",
      "text/plain": [
       "<Figure size 640x480 with 1 Axes>"
      ]
     },
     "metadata": {},
     "output_type": "display_data"
    }
   ],
   "source": [
    "import csv\n",
    "\n",
    "f = open('subwayfee.csv', encoding = 'utf-8-sig')\n",
    "data = csv.reader(f)\n",
    "header = next(data)\n",
    "min_rate  = 100\n",
    "rate = 0\n",
    "min_row = []\n",
    "total_count = 0\n",
    "min_total_num = 0\n",
    "\n",
    "for row in data:\n",
    "    for i in [4,6]:\n",
    "        row[i] = int(row[i])\n",
    "    total_count = row[4] + row[6]\n",
    "    if row[6] != 0 and (total_count >10000):\n",
    "        rate = row[4] / total_count\n",
    "        if rate <= 0.5:\n",
    "            print(row, round(rate, 2))\n",
    "            if rate < min_rate:\n",
    "                min_rate = rate\n",
    "                min_row = row\n",
    "                min_total_num = total_count\n",
    "\n",
    "                print()\n",
    "print(min_rate)\n",
    "x = round(min_rate*100, 1)\n",
    "print(x)\n",
    "print(min_total_num)\n",
    "print(row[3])\n",
    "print('유임 승차 비율이 가장 낮은 역: {0}, 전체 인원: {1:,}명, 유임승차인원: {2:,}명, 유임승차비율: {3:,}%'.format(min_row[3], total_count, min_row[4], round(min_rate*100, 1)))\n",
    "f.close()\n",
    "plt.title(min_row[3]  + ' 유, 무임 승차 비율')\n",
    "plt.rcParams['font.family'] = 'D2Coding'\n",
    "label = ['유임승차','무임승차']\n",
    "values = [min_row[4], min_row[6]]\n",
    "plt.pie(values, labels=label, autopct='%.1f%%')\n",
    "plt.legend()\n",
    "plt.show()"
   ]
  },
  {
   "cell_type": "code",
   "execution_count": null,
   "id": "22ad0997-dcd6-4e7d-a842-22a12fae1f53",
   "metadata": {},
   "outputs": [],
   "source": [
    "\n"
   ]
  },
  {
   "cell_type": "code",
   "execution_count": null,
   "id": "40425289-42c6-4b54-b205-dae2edf5ab4b",
   "metadata": {},
   "outputs": [],
   "source": []
  }
 ],
 "metadata": {
  "kernelspec": {
   "display_name": "Python 3 (ipykernel)",
   "language": "python",
   "name": "python3"
  },
  "language_info": {
   "codemirror_mode": {
    "name": "ipython",
    "version": 3
   },
   "file_extension": ".py",
   "mimetype": "text/x-python",
   "name": "python",
   "nbconvert_exporter": "python",
   "pygments_lexer": "ipython3",
   "version": "3.9.16"
  }
 },
 "nbformat": 4,
 "nbformat_minor": 5
}
